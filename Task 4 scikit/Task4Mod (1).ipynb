{
  "cells": [
    {
      "cell_type": "markdown",
      "metadata": {
        "id": "PzmUbzljXqVa"
      },
      "source": [
        "# Libraries Import"
      ]
    },
    {
      "cell_type": "code",
      "execution_count": 34,
      "metadata": {
        "id": "L9vBIvx1b2-h"
      },
      "outputs": [],
      "source": [
        "import matplotlib.pyplot as plt\n",
        "import numpy as np\n",
        "import pandas as pd\n",
        "import sklearn\n",
        "from  sklearn.model_selection import train_test_split\n",
        "from sklearn import model_selection\n",
        "from sklearn.metrics import accuracy_score,confusion_matrix\n",
        "from  sklearn.tree import DecisionTreeClassifier"
      ]
    },
    {
      "cell_type": "markdown",
      "metadata": {
        "id": "eBSKfUCYXqVg"
      },
      "source": [
        "# Data Import and Preprocessing"
      ]
    },
    {
      "cell_type": "code",
      "execution_count": 35,
      "metadata": {
        "id": "1ak5lzrcXqVg"
      },
      "outputs": [],
      "source": [
        "names = ['distance_of_the_route_Km','longitude','latitude','body_characteristic_length','fuel_l','sensors', 'Rating']"
      ]
    },
    {
      "cell_type": "code",
      "execution_count": 36,
      "metadata": {
        "colab": {
          "base_uri": "https://localhost:8080/",
          "height": 206
        },
        "id": "BlPCLSPpXqVh",
        "outputId": "d6d3f8b1-b191-407d-e8f8-a945994545ce"
      },
      "outputs": [
        {
          "output_type": "execute_result",
          "data": {
            "text/plain": [
              "   distance_of_the_route_Km  longitude  latitude  body_characteristic_length  \\\n",
              "0                       100         54        10                          23   \n",
              "1                        40         57         8                          19   \n",
              "2                       120         55         8                          39   \n",
              "3                        70         50         7                          34   \n",
              "4                        90         59         9                          28   \n",
              "\n",
              "   fuel_l  sensors   Rating  \n",
              "0      50       12     High  \n",
              "1      25       10   Lowest  \n",
              "2      55       17  Highest  \n",
              "3      40       15      Low  \n",
              "4      45       13      Low  "
            ],
            "text/html": [
              "\n",
              "  <div id=\"df-9f087ee9-bd5f-4da4-b203-cdd2e9d6536f\">\n",
              "    <div class=\"colab-df-container\">\n",
              "      <div>\n",
              "<style scoped>\n",
              "    .dataframe tbody tr th:only-of-type {\n",
              "        vertical-align: middle;\n",
              "    }\n",
              "\n",
              "    .dataframe tbody tr th {\n",
              "        vertical-align: top;\n",
              "    }\n",
              "\n",
              "    .dataframe thead th {\n",
              "        text-align: right;\n",
              "    }\n",
              "</style>\n",
              "<table border=\"1\" class=\"dataframe\">\n",
              "  <thead>\n",
              "    <tr style=\"text-align: right;\">\n",
              "      <th></th>\n",
              "      <th>distance_of_the_route_Km</th>\n",
              "      <th>longitude</th>\n",
              "      <th>latitude</th>\n",
              "      <th>body_characteristic_length</th>\n",
              "      <th>fuel_l</th>\n",
              "      <th>sensors</th>\n",
              "      <th>Rating</th>\n",
              "    </tr>\n",
              "  </thead>\n",
              "  <tbody>\n",
              "    <tr>\n",
              "      <th>0</th>\n",
              "      <td>100</td>\n",
              "      <td>54</td>\n",
              "      <td>10</td>\n",
              "      <td>23</td>\n",
              "      <td>50</td>\n",
              "      <td>12</td>\n",
              "      <td>High</td>\n",
              "    </tr>\n",
              "    <tr>\n",
              "      <th>1</th>\n",
              "      <td>40</td>\n",
              "      <td>57</td>\n",
              "      <td>8</td>\n",
              "      <td>19</td>\n",
              "      <td>25</td>\n",
              "      <td>10</td>\n",
              "      <td>Lowest</td>\n",
              "    </tr>\n",
              "    <tr>\n",
              "      <th>2</th>\n",
              "      <td>120</td>\n",
              "      <td>55</td>\n",
              "      <td>8</td>\n",
              "      <td>39</td>\n",
              "      <td>55</td>\n",
              "      <td>17</td>\n",
              "      <td>Highest</td>\n",
              "    </tr>\n",
              "    <tr>\n",
              "      <th>3</th>\n",
              "      <td>70</td>\n",
              "      <td>50</td>\n",
              "      <td>7</td>\n",
              "      <td>34</td>\n",
              "      <td>40</td>\n",
              "      <td>15</td>\n",
              "      <td>Low</td>\n",
              "    </tr>\n",
              "    <tr>\n",
              "      <th>4</th>\n",
              "      <td>90</td>\n",
              "      <td>59</td>\n",
              "      <td>9</td>\n",
              "      <td>28</td>\n",
              "      <td>45</td>\n",
              "      <td>13</td>\n",
              "      <td>Low</td>\n",
              "    </tr>\n",
              "  </tbody>\n",
              "</table>\n",
              "</div>\n",
              "      <button class=\"colab-df-convert\" onclick=\"convertToInteractive('df-9f087ee9-bd5f-4da4-b203-cdd2e9d6536f')\"\n",
              "              title=\"Convert this dataframe to an interactive table.\"\n",
              "              style=\"display:none;\">\n",
              "        \n",
              "  <svg xmlns=\"http://www.w3.org/2000/svg\" height=\"24px\"viewBox=\"0 0 24 24\"\n",
              "       width=\"24px\">\n",
              "    <path d=\"M0 0h24v24H0V0z\" fill=\"none\"/>\n",
              "    <path d=\"M18.56 5.44l.94 2.06.94-2.06 2.06-.94-2.06-.94-.94-2.06-.94 2.06-2.06.94zm-11 1L8.5 8.5l.94-2.06 2.06-.94-2.06-.94L8.5 2.5l-.94 2.06-2.06.94zm10 10l.94 2.06.94-2.06 2.06-.94-2.06-.94-.94-2.06-.94 2.06-2.06.94z\"/><path d=\"M17.41 7.96l-1.37-1.37c-.4-.4-.92-.59-1.43-.59-.52 0-1.04.2-1.43.59L10.3 9.45l-7.72 7.72c-.78.78-.78 2.05 0 2.83L4 21.41c.39.39.9.59 1.41.59.51 0 1.02-.2 1.41-.59l7.78-7.78 2.81-2.81c.8-.78.8-2.07 0-2.86zM5.41 20L4 18.59l7.72-7.72 1.47 1.35L5.41 20z\"/>\n",
              "  </svg>\n",
              "      </button>\n",
              "      \n",
              "  <style>\n",
              "    .colab-df-container {\n",
              "      display:flex;\n",
              "      flex-wrap:wrap;\n",
              "      gap: 12px;\n",
              "    }\n",
              "\n",
              "    .colab-df-convert {\n",
              "      background-color: #E8F0FE;\n",
              "      border: none;\n",
              "      border-radius: 50%;\n",
              "      cursor: pointer;\n",
              "      display: none;\n",
              "      fill: #1967D2;\n",
              "      height: 32px;\n",
              "      padding: 0 0 0 0;\n",
              "      width: 32px;\n",
              "    }\n",
              "\n",
              "    .colab-df-convert:hover {\n",
              "      background-color: #E2EBFA;\n",
              "      box-shadow: 0px 1px 2px rgba(60, 64, 67, 0.3), 0px 1px 3px 1px rgba(60, 64, 67, 0.15);\n",
              "      fill: #174EA6;\n",
              "    }\n",
              "\n",
              "    [theme=dark] .colab-df-convert {\n",
              "      background-color: #3B4455;\n",
              "      fill: #D2E3FC;\n",
              "    }\n",
              "\n",
              "    [theme=dark] .colab-df-convert:hover {\n",
              "      background-color: #434B5C;\n",
              "      box-shadow: 0px 1px 3px 1px rgba(0, 0, 0, 0.15);\n",
              "      filter: drop-shadow(0px 1px 2px rgba(0, 0, 0, 0.3));\n",
              "      fill: #FFFFFF;\n",
              "    }\n",
              "  </style>\n",
              "\n",
              "      <script>\n",
              "        const buttonEl =\n",
              "          document.querySelector('#df-9f087ee9-bd5f-4da4-b203-cdd2e9d6536f button.colab-df-convert');\n",
              "        buttonEl.style.display =\n",
              "          google.colab.kernel.accessAllowed ? 'block' : 'none';\n",
              "\n",
              "        async function convertToInteractive(key) {\n",
              "          const element = document.querySelector('#df-9f087ee9-bd5f-4da4-b203-cdd2e9d6536f');\n",
              "          const dataTable =\n",
              "            await google.colab.kernel.invokeFunction('convertToInteractive',\n",
              "                                                     [key], {});\n",
              "          if (!dataTable) return;\n",
              "\n",
              "          const docLinkHtml = 'Like what you see? Visit the ' +\n",
              "            '<a target=\"_blank\" href=https://colab.research.google.com/notebooks/data_table.ipynb>data table notebook</a>'\n",
              "            + ' to learn more about interactive tables.';\n",
              "          element.innerHTML = '';\n",
              "          dataTable['output_type'] = 'display_data';\n",
              "          await google.colab.output.renderOutput(dataTable, element);\n",
              "          const docLink = document.createElement('div');\n",
              "          docLink.innerHTML = docLinkHtml;\n",
              "          element.appendChild(docLink);\n",
              "        }\n",
              "      </script>\n",
              "    </div>\n",
              "  </div>\n",
              "  "
            ]
          },
          "metadata": {},
          "execution_count": 36
        }
      ],
      "source": [
        "df = pd.read_csv(\"BookMod.csv\", names=names, header=0)\n",
        "df.head()\n"
      ]
    },
    {
      "cell_type": "code",
      "execution_count": 37,
      "metadata": {
        "colab": {
          "base_uri": "https://localhost:8080/",
          "height": 677
        },
        "id": "uSSZY_E0XqVi",
        "outputId": "52904abb-a8e5-45c1-d4d2-f428ed68fdea"
      },
      "outputs": [
        {
          "output_type": "execute_result",
          "data": {
            "text/plain": [
              "    distance_of_the_route_Km  longitude  latitude  body_characteristic_length  \\\n",
              "0                        100         54        10                          23   \n",
              "1                         40         57         8                          19   \n",
              "2                        120         55         8                          39   \n",
              "3                         70         50         7                          34   \n",
              "4                         90         59         9                          28   \n",
              "5                         95         53        10                          34   \n",
              "6                         45         52         9                          19   \n",
              "7                        115         55         9                          39   \n",
              "8                         60         51         9                          34   \n",
              "9                         80         52        10                          28   \n",
              "10                        85         59         6                          34   \n",
              "11                        35         55         7                          19   \n",
              "12                       110         55        10                          39   \n",
              "13                        30         58         6                          19   \n",
              "14                       100         54        10                          23   \n",
              "15                        40         57         8                          19   \n",
              "16                       120         55         8                          39   \n",
              "17                        70         50         7                          34   \n",
              "18                        90         59         9                          28   \n",
              "19                        95         53        10                          34   \n",
              "\n",
              "    fuel_l  sensors   Rating  \n",
              "0       50       12     High  \n",
              "1       25       10   Lowest  \n",
              "2       55       17  Highest  \n",
              "3       40       15      Low  \n",
              "4       45       13      Low  \n",
              "5       45       15     high  \n",
              "6       25       10   Lowest  \n",
              "7       50       17  Highest  \n",
              "8       40       12      Low  \n",
              "9       40       13      Low  \n",
              "10      45       13      Low  \n",
              "11      25       10   Lowest  \n",
              "12      50       17  Highest  \n",
              "13      25       10   Lowest  \n",
              "14      50       12     High  \n",
              "15      25       10   Lowest  \n",
              "16      55       17  Highest  \n",
              "17      40       15      Low  \n",
              "18      45       13      Low  \n",
              "19      45       15     high  "
            ],
            "text/html": [
              "\n",
              "  <div id=\"df-68f25dd2-3b9f-4ab1-ac5e-1637d3841e12\">\n",
              "    <div class=\"colab-df-container\">\n",
              "      <div>\n",
              "<style scoped>\n",
              "    .dataframe tbody tr th:only-of-type {\n",
              "        vertical-align: middle;\n",
              "    }\n",
              "\n",
              "    .dataframe tbody tr th {\n",
              "        vertical-align: top;\n",
              "    }\n",
              "\n",
              "    .dataframe thead th {\n",
              "        text-align: right;\n",
              "    }\n",
              "</style>\n",
              "<table border=\"1\" class=\"dataframe\">\n",
              "  <thead>\n",
              "    <tr style=\"text-align: right;\">\n",
              "      <th></th>\n",
              "      <th>distance_of_the_route_Km</th>\n",
              "      <th>longitude</th>\n",
              "      <th>latitude</th>\n",
              "      <th>body_characteristic_length</th>\n",
              "      <th>fuel_l</th>\n",
              "      <th>sensors</th>\n",
              "      <th>Rating</th>\n",
              "    </tr>\n",
              "  </thead>\n",
              "  <tbody>\n",
              "    <tr>\n",
              "      <th>0</th>\n",
              "      <td>100</td>\n",
              "      <td>54</td>\n",
              "      <td>10</td>\n",
              "      <td>23</td>\n",
              "      <td>50</td>\n",
              "      <td>12</td>\n",
              "      <td>High</td>\n",
              "    </tr>\n",
              "    <tr>\n",
              "      <th>1</th>\n",
              "      <td>40</td>\n",
              "      <td>57</td>\n",
              "      <td>8</td>\n",
              "      <td>19</td>\n",
              "      <td>25</td>\n",
              "      <td>10</td>\n",
              "      <td>Lowest</td>\n",
              "    </tr>\n",
              "    <tr>\n",
              "      <th>2</th>\n",
              "      <td>120</td>\n",
              "      <td>55</td>\n",
              "      <td>8</td>\n",
              "      <td>39</td>\n",
              "      <td>55</td>\n",
              "      <td>17</td>\n",
              "      <td>Highest</td>\n",
              "    </tr>\n",
              "    <tr>\n",
              "      <th>3</th>\n",
              "      <td>70</td>\n",
              "      <td>50</td>\n",
              "      <td>7</td>\n",
              "      <td>34</td>\n",
              "      <td>40</td>\n",
              "      <td>15</td>\n",
              "      <td>Low</td>\n",
              "    </tr>\n",
              "    <tr>\n",
              "      <th>4</th>\n",
              "      <td>90</td>\n",
              "      <td>59</td>\n",
              "      <td>9</td>\n",
              "      <td>28</td>\n",
              "      <td>45</td>\n",
              "      <td>13</td>\n",
              "      <td>Low</td>\n",
              "    </tr>\n",
              "    <tr>\n",
              "      <th>5</th>\n",
              "      <td>95</td>\n",
              "      <td>53</td>\n",
              "      <td>10</td>\n",
              "      <td>34</td>\n",
              "      <td>45</td>\n",
              "      <td>15</td>\n",
              "      <td>high</td>\n",
              "    </tr>\n",
              "    <tr>\n",
              "      <th>6</th>\n",
              "      <td>45</td>\n",
              "      <td>52</td>\n",
              "      <td>9</td>\n",
              "      <td>19</td>\n",
              "      <td>25</td>\n",
              "      <td>10</td>\n",
              "      <td>Lowest</td>\n",
              "    </tr>\n",
              "    <tr>\n",
              "      <th>7</th>\n",
              "      <td>115</td>\n",
              "      <td>55</td>\n",
              "      <td>9</td>\n",
              "      <td>39</td>\n",
              "      <td>50</td>\n",
              "      <td>17</td>\n",
              "      <td>Highest</td>\n",
              "    </tr>\n",
              "    <tr>\n",
              "      <th>8</th>\n",
              "      <td>60</td>\n",
              "      <td>51</td>\n",
              "      <td>9</td>\n",
              "      <td>34</td>\n",
              "      <td>40</td>\n",
              "      <td>12</td>\n",
              "      <td>Low</td>\n",
              "    </tr>\n",
              "    <tr>\n",
              "      <th>9</th>\n",
              "      <td>80</td>\n",
              "      <td>52</td>\n",
              "      <td>10</td>\n",
              "      <td>28</td>\n",
              "      <td>40</td>\n",
              "      <td>13</td>\n",
              "      <td>Low</td>\n",
              "    </tr>\n",
              "    <tr>\n",
              "      <th>10</th>\n",
              "      <td>85</td>\n",
              "      <td>59</td>\n",
              "      <td>6</td>\n",
              "      <td>34</td>\n",
              "      <td>45</td>\n",
              "      <td>13</td>\n",
              "      <td>Low</td>\n",
              "    </tr>\n",
              "    <tr>\n",
              "      <th>11</th>\n",
              "      <td>35</td>\n",
              "      <td>55</td>\n",
              "      <td>7</td>\n",
              "      <td>19</td>\n",
              "      <td>25</td>\n",
              "      <td>10</td>\n",
              "      <td>Lowest</td>\n",
              "    </tr>\n",
              "    <tr>\n",
              "      <th>12</th>\n",
              "      <td>110</td>\n",
              "      <td>55</td>\n",
              "      <td>10</td>\n",
              "      <td>39</td>\n",
              "      <td>50</td>\n",
              "      <td>17</td>\n",
              "      <td>Highest</td>\n",
              "    </tr>\n",
              "    <tr>\n",
              "      <th>13</th>\n",
              "      <td>30</td>\n",
              "      <td>58</td>\n",
              "      <td>6</td>\n",
              "      <td>19</td>\n",
              "      <td>25</td>\n",
              "      <td>10</td>\n",
              "      <td>Lowest</td>\n",
              "    </tr>\n",
              "    <tr>\n",
              "      <th>14</th>\n",
              "      <td>100</td>\n",
              "      <td>54</td>\n",
              "      <td>10</td>\n",
              "      <td>23</td>\n",
              "      <td>50</td>\n",
              "      <td>12</td>\n",
              "      <td>High</td>\n",
              "    </tr>\n",
              "    <tr>\n",
              "      <th>15</th>\n",
              "      <td>40</td>\n",
              "      <td>57</td>\n",
              "      <td>8</td>\n",
              "      <td>19</td>\n",
              "      <td>25</td>\n",
              "      <td>10</td>\n",
              "      <td>Lowest</td>\n",
              "    </tr>\n",
              "    <tr>\n",
              "      <th>16</th>\n",
              "      <td>120</td>\n",
              "      <td>55</td>\n",
              "      <td>8</td>\n",
              "      <td>39</td>\n",
              "      <td>55</td>\n",
              "      <td>17</td>\n",
              "      <td>Highest</td>\n",
              "    </tr>\n",
              "    <tr>\n",
              "      <th>17</th>\n",
              "      <td>70</td>\n",
              "      <td>50</td>\n",
              "      <td>7</td>\n",
              "      <td>34</td>\n",
              "      <td>40</td>\n",
              "      <td>15</td>\n",
              "      <td>Low</td>\n",
              "    </tr>\n",
              "    <tr>\n",
              "      <th>18</th>\n",
              "      <td>90</td>\n",
              "      <td>59</td>\n",
              "      <td>9</td>\n",
              "      <td>28</td>\n",
              "      <td>45</td>\n",
              "      <td>13</td>\n",
              "      <td>Low</td>\n",
              "    </tr>\n",
              "    <tr>\n",
              "      <th>19</th>\n",
              "      <td>95</td>\n",
              "      <td>53</td>\n",
              "      <td>10</td>\n",
              "      <td>34</td>\n",
              "      <td>45</td>\n",
              "      <td>15</td>\n",
              "      <td>high</td>\n",
              "    </tr>\n",
              "  </tbody>\n",
              "</table>\n",
              "</div>\n",
              "      <button class=\"colab-df-convert\" onclick=\"convertToInteractive('df-68f25dd2-3b9f-4ab1-ac5e-1637d3841e12')\"\n",
              "              title=\"Convert this dataframe to an interactive table.\"\n",
              "              style=\"display:none;\">\n",
              "        \n",
              "  <svg xmlns=\"http://www.w3.org/2000/svg\" height=\"24px\"viewBox=\"0 0 24 24\"\n",
              "       width=\"24px\">\n",
              "    <path d=\"M0 0h24v24H0V0z\" fill=\"none\"/>\n",
              "    <path d=\"M18.56 5.44l.94 2.06.94-2.06 2.06-.94-2.06-.94-.94-2.06-.94 2.06-2.06.94zm-11 1L8.5 8.5l.94-2.06 2.06-.94-2.06-.94L8.5 2.5l-.94 2.06-2.06.94zm10 10l.94 2.06.94-2.06 2.06-.94-2.06-.94-.94-2.06-.94 2.06-2.06.94z\"/><path d=\"M17.41 7.96l-1.37-1.37c-.4-.4-.92-.59-1.43-.59-.52 0-1.04.2-1.43.59L10.3 9.45l-7.72 7.72c-.78.78-.78 2.05 0 2.83L4 21.41c.39.39.9.59 1.41.59.51 0 1.02-.2 1.41-.59l7.78-7.78 2.81-2.81c.8-.78.8-2.07 0-2.86zM5.41 20L4 18.59l7.72-7.72 1.47 1.35L5.41 20z\"/>\n",
              "  </svg>\n",
              "      </button>\n",
              "      \n",
              "  <style>\n",
              "    .colab-df-container {\n",
              "      display:flex;\n",
              "      flex-wrap:wrap;\n",
              "      gap: 12px;\n",
              "    }\n",
              "\n",
              "    .colab-df-convert {\n",
              "      background-color: #E8F0FE;\n",
              "      border: none;\n",
              "      border-radius: 50%;\n",
              "      cursor: pointer;\n",
              "      display: none;\n",
              "      fill: #1967D2;\n",
              "      height: 32px;\n",
              "      padding: 0 0 0 0;\n",
              "      width: 32px;\n",
              "    }\n",
              "\n",
              "    .colab-df-convert:hover {\n",
              "      background-color: #E2EBFA;\n",
              "      box-shadow: 0px 1px 2px rgba(60, 64, 67, 0.3), 0px 1px 3px 1px rgba(60, 64, 67, 0.15);\n",
              "      fill: #174EA6;\n",
              "    }\n",
              "\n",
              "    [theme=dark] .colab-df-convert {\n",
              "      background-color: #3B4455;\n",
              "      fill: #D2E3FC;\n",
              "    }\n",
              "\n",
              "    [theme=dark] .colab-df-convert:hover {\n",
              "      background-color: #434B5C;\n",
              "      box-shadow: 0px 1px 3px 1px rgba(0, 0, 0, 0.15);\n",
              "      filter: drop-shadow(0px 1px 2px rgba(0, 0, 0, 0.3));\n",
              "      fill: #FFFFFF;\n",
              "    }\n",
              "  </style>\n",
              "\n",
              "      <script>\n",
              "        const buttonEl =\n",
              "          document.querySelector('#df-68f25dd2-3b9f-4ab1-ac5e-1637d3841e12 button.colab-df-convert');\n",
              "        buttonEl.style.display =\n",
              "          google.colab.kernel.accessAllowed ? 'block' : 'none';\n",
              "\n",
              "        async function convertToInteractive(key) {\n",
              "          const element = document.querySelector('#df-68f25dd2-3b9f-4ab1-ac5e-1637d3841e12');\n",
              "          const dataTable =\n",
              "            await google.colab.kernel.invokeFunction('convertToInteractive',\n",
              "                                                     [key], {});\n",
              "          if (!dataTable) return;\n",
              "\n",
              "          const docLinkHtml = 'Like what you see? Visit the ' +\n",
              "            '<a target=\"_blank\" href=https://colab.research.google.com/notebooks/data_table.ipynb>data table notebook</a>'\n",
              "            + ' to learn more about interactive tables.';\n",
              "          element.innerHTML = '';\n",
              "          dataTable['output_type'] = 'display_data';\n",
              "          await google.colab.output.renderOutput(dataTable, element);\n",
              "          const docLink = document.createElement('div');\n",
              "          docLink.innerHTML = docLinkHtml;\n",
              "          element.appendChild(docLink);\n",
              "        }\n",
              "      </script>\n",
              "    </div>\n",
              "  </div>\n",
              "  "
            ]
          },
          "metadata": {},
          "execution_count": 37
        }
      ],
      "source": [
        "df.head(20)"
      ]
    },
    {
      "cell_type": "code",
      "execution_count": 38,
      "metadata": {
        "colab": {
          "base_uri": "https://localhost:8080/"
        },
        "id": "FPE3WbSND4AR",
        "outputId": "84aa1d80-eddb-41e1-ced6-60643bdcc86a"
      },
      "outputs": [
        {
          "output_type": "execute_result",
          "data": {
            "text/plain": [
              "(56, 7)"
            ]
          },
          "metadata": {},
          "execution_count": 38
        }
      ],
      "source": [
        "df.shape\n"
      ]
    },
    {
      "cell_type": "code",
      "execution_count": 39,
      "metadata": {
        "colab": {
          "base_uri": "https://localhost:8080/",
          "height": 300
        },
        "id": "Y7t9FKo0XqVj",
        "outputId": "3c03f7d4-97f6-42d0-904e-e9439e7f27a2"
      },
      "outputs": [
        {
          "output_type": "execute_result",
          "data": {
            "text/plain": [
              "       distance_of_the_route_Km  longitude   latitude  \\\n",
              "count                 56.000000  56.000000  56.000000   \n",
              "mean                  76.785714  54.642857   8.428571   \n",
              "std                   29.763134   2.792383   1.412376   \n",
              "min                   30.000000  50.000000   6.000000   \n",
              "25%                   45.000000  52.000000   7.000000   \n",
              "50%                   82.500000  55.000000   9.000000   \n",
              "75%                  100.000000  57.000000  10.000000   \n",
              "max                  120.000000  59.000000  10.000000   \n",
              "\n",
              "       body_characteristic_length     fuel_l    sensors  \n",
              "count                   56.000000  56.000000  56.000000  \n",
              "mean                    29.142857  40.000000  13.142857  \n",
              "std                      7.805426  10.444659   2.610667  \n",
              "min                     19.000000  25.000000  10.000000  \n",
              "25%                     19.000000  25.000000  10.000000  \n",
              "50%                     31.000000  42.500000  13.000000  \n",
              "75%                     34.000000  50.000000  15.000000  \n",
              "max                     39.000000  55.000000  17.000000  "
            ],
            "text/html": [
              "\n",
              "  <div id=\"df-791a8544-71a2-425d-80b4-c87c4da4490d\">\n",
              "    <div class=\"colab-df-container\">\n",
              "      <div>\n",
              "<style scoped>\n",
              "    .dataframe tbody tr th:only-of-type {\n",
              "        vertical-align: middle;\n",
              "    }\n",
              "\n",
              "    .dataframe tbody tr th {\n",
              "        vertical-align: top;\n",
              "    }\n",
              "\n",
              "    .dataframe thead th {\n",
              "        text-align: right;\n",
              "    }\n",
              "</style>\n",
              "<table border=\"1\" class=\"dataframe\">\n",
              "  <thead>\n",
              "    <tr style=\"text-align: right;\">\n",
              "      <th></th>\n",
              "      <th>distance_of_the_route_Km</th>\n",
              "      <th>longitude</th>\n",
              "      <th>latitude</th>\n",
              "      <th>body_characteristic_length</th>\n",
              "      <th>fuel_l</th>\n",
              "      <th>sensors</th>\n",
              "    </tr>\n",
              "  </thead>\n",
              "  <tbody>\n",
              "    <tr>\n",
              "      <th>count</th>\n",
              "      <td>56.000000</td>\n",
              "      <td>56.000000</td>\n",
              "      <td>56.000000</td>\n",
              "      <td>56.000000</td>\n",
              "      <td>56.000000</td>\n",
              "      <td>56.000000</td>\n",
              "    </tr>\n",
              "    <tr>\n",
              "      <th>mean</th>\n",
              "      <td>76.785714</td>\n",
              "      <td>54.642857</td>\n",
              "      <td>8.428571</td>\n",
              "      <td>29.142857</td>\n",
              "      <td>40.000000</td>\n",
              "      <td>13.142857</td>\n",
              "    </tr>\n",
              "    <tr>\n",
              "      <th>std</th>\n",
              "      <td>29.763134</td>\n",
              "      <td>2.792383</td>\n",
              "      <td>1.412376</td>\n",
              "      <td>7.805426</td>\n",
              "      <td>10.444659</td>\n",
              "      <td>2.610667</td>\n",
              "    </tr>\n",
              "    <tr>\n",
              "      <th>min</th>\n",
              "      <td>30.000000</td>\n",
              "      <td>50.000000</td>\n",
              "      <td>6.000000</td>\n",
              "      <td>19.000000</td>\n",
              "      <td>25.000000</td>\n",
              "      <td>10.000000</td>\n",
              "    </tr>\n",
              "    <tr>\n",
              "      <th>25%</th>\n",
              "      <td>45.000000</td>\n",
              "      <td>52.000000</td>\n",
              "      <td>7.000000</td>\n",
              "      <td>19.000000</td>\n",
              "      <td>25.000000</td>\n",
              "      <td>10.000000</td>\n",
              "    </tr>\n",
              "    <tr>\n",
              "      <th>50%</th>\n",
              "      <td>82.500000</td>\n",
              "      <td>55.000000</td>\n",
              "      <td>9.000000</td>\n",
              "      <td>31.000000</td>\n",
              "      <td>42.500000</td>\n",
              "      <td>13.000000</td>\n",
              "    </tr>\n",
              "    <tr>\n",
              "      <th>75%</th>\n",
              "      <td>100.000000</td>\n",
              "      <td>57.000000</td>\n",
              "      <td>10.000000</td>\n",
              "      <td>34.000000</td>\n",
              "      <td>50.000000</td>\n",
              "      <td>15.000000</td>\n",
              "    </tr>\n",
              "    <tr>\n",
              "      <th>max</th>\n",
              "      <td>120.000000</td>\n",
              "      <td>59.000000</td>\n",
              "      <td>10.000000</td>\n",
              "      <td>39.000000</td>\n",
              "      <td>55.000000</td>\n",
              "      <td>17.000000</td>\n",
              "    </tr>\n",
              "  </tbody>\n",
              "</table>\n",
              "</div>\n",
              "      <button class=\"colab-df-convert\" onclick=\"convertToInteractive('df-791a8544-71a2-425d-80b4-c87c4da4490d')\"\n",
              "              title=\"Convert this dataframe to an interactive table.\"\n",
              "              style=\"display:none;\">\n",
              "        \n",
              "  <svg xmlns=\"http://www.w3.org/2000/svg\" height=\"24px\"viewBox=\"0 0 24 24\"\n",
              "       width=\"24px\">\n",
              "    <path d=\"M0 0h24v24H0V0z\" fill=\"none\"/>\n",
              "    <path d=\"M18.56 5.44l.94 2.06.94-2.06 2.06-.94-2.06-.94-.94-2.06-.94 2.06-2.06.94zm-11 1L8.5 8.5l.94-2.06 2.06-.94-2.06-.94L8.5 2.5l-.94 2.06-2.06.94zm10 10l.94 2.06.94-2.06 2.06-.94-2.06-.94-.94-2.06-.94 2.06-2.06.94z\"/><path d=\"M17.41 7.96l-1.37-1.37c-.4-.4-.92-.59-1.43-.59-.52 0-1.04.2-1.43.59L10.3 9.45l-7.72 7.72c-.78.78-.78 2.05 0 2.83L4 21.41c.39.39.9.59 1.41.59.51 0 1.02-.2 1.41-.59l7.78-7.78 2.81-2.81c.8-.78.8-2.07 0-2.86zM5.41 20L4 18.59l7.72-7.72 1.47 1.35L5.41 20z\"/>\n",
              "  </svg>\n",
              "      </button>\n",
              "      \n",
              "  <style>\n",
              "    .colab-df-container {\n",
              "      display:flex;\n",
              "      flex-wrap:wrap;\n",
              "      gap: 12px;\n",
              "    }\n",
              "\n",
              "    .colab-df-convert {\n",
              "      background-color: #E8F0FE;\n",
              "      border: none;\n",
              "      border-radius: 50%;\n",
              "      cursor: pointer;\n",
              "      display: none;\n",
              "      fill: #1967D2;\n",
              "      height: 32px;\n",
              "      padding: 0 0 0 0;\n",
              "      width: 32px;\n",
              "    }\n",
              "\n",
              "    .colab-df-convert:hover {\n",
              "      background-color: #E2EBFA;\n",
              "      box-shadow: 0px 1px 2px rgba(60, 64, 67, 0.3), 0px 1px 3px 1px rgba(60, 64, 67, 0.15);\n",
              "      fill: #174EA6;\n",
              "    }\n",
              "\n",
              "    [theme=dark] .colab-df-convert {\n",
              "      background-color: #3B4455;\n",
              "      fill: #D2E3FC;\n",
              "    }\n",
              "\n",
              "    [theme=dark] .colab-df-convert:hover {\n",
              "      background-color: #434B5C;\n",
              "      box-shadow: 0px 1px 3px 1px rgba(0, 0, 0, 0.15);\n",
              "      filter: drop-shadow(0px 1px 2px rgba(0, 0, 0, 0.3));\n",
              "      fill: #FFFFFF;\n",
              "    }\n",
              "  </style>\n",
              "\n",
              "      <script>\n",
              "        const buttonEl =\n",
              "          document.querySelector('#df-791a8544-71a2-425d-80b4-c87c4da4490d button.colab-df-convert');\n",
              "        buttonEl.style.display =\n",
              "          google.colab.kernel.accessAllowed ? 'block' : 'none';\n",
              "\n",
              "        async function convertToInteractive(key) {\n",
              "          const element = document.querySelector('#df-791a8544-71a2-425d-80b4-c87c4da4490d');\n",
              "          const dataTable =\n",
              "            await google.colab.kernel.invokeFunction('convertToInteractive',\n",
              "                                                     [key], {});\n",
              "          if (!dataTable) return;\n",
              "\n",
              "          const docLinkHtml = 'Like what you see? Visit the ' +\n",
              "            '<a target=\"_blank\" href=https://colab.research.google.com/notebooks/data_table.ipynb>data table notebook</a>'\n",
              "            + ' to learn more about interactive tables.';\n",
              "          element.innerHTML = '';\n",
              "          dataTable['output_type'] = 'display_data';\n",
              "          await google.colab.output.renderOutput(dataTable, element);\n",
              "          const docLink = document.createElement('div');\n",
              "          docLink.innerHTML = docLinkHtml;\n",
              "          element.appendChild(docLink);\n",
              "        }\n",
              "      </script>\n",
              "    </div>\n",
              "  </div>\n",
              "  "
            ]
          },
          "metadata": {},
          "execution_count": 39
        }
      ],
      "source": [
        "df.describe()"
      ]
    },
    {
      "cell_type": "code",
      "execution_count": 40,
      "metadata": {
        "colab": {
          "base_uri": "https://localhost:8080/"
        },
        "id": "HQv3gvgzMmu8",
        "outputId": "5f2a2171-1885-49ab-aed4-cca6ee5874f5"
      },
      "outputs": [
        {
          "output_type": "execute_result",
          "data": {
            "text/plain": [
              "Index(['distance_of_the_route_Km', 'longitude', 'latitude',\n",
              "       'body_characteristic_length', 'fuel_l', 'sensors', 'Rating'],\n",
              "      dtype='object')"
            ]
          },
          "metadata": {},
          "execution_count": 40
        }
      ],
      "source": [
        "df.columns\n"
      ]
    },
    {
      "cell_type": "code",
      "execution_count": 41,
      "metadata": {
        "colab": {
          "base_uri": "https://localhost:8080/"
        },
        "id": "ge1El8QWSReK",
        "outputId": "da20da07-7201-429c-ad1b-061bcd8a9043"
      },
      "outputs": [
        {
          "output_type": "execute_result",
          "data": {
            "text/plain": [
              "Rating\n",
              "High        4\n",
              "Highest    12\n",
              "Low        20\n",
              "Lowest     16\n",
              "high        4\n",
              "dtype: int64"
            ]
          },
          "metadata": {},
          "execution_count": 41
        }
      ],
      "source": [
        "\n",
        "df.groupby('Rating').size()\n"
      ]
    },
    {
      "cell_type": "code",
      "execution_count": 53,
      "metadata": {
        "colab": {
          "base_uri": "https://localhost:8080/"
        },
        "id": "NDwVdMHwXqVl",
        "outputId": "b5473219-a620-4a01-82e4-e9f74158051b"
      },
      "outputs": [
        {
          "output_type": "execute_result",
          "data": {
            "text/plain": [
              "array([[100, 54, 10, 23, 50, 12, 'High'],\n",
              "       [40, 57, 8, 19, 25, 10, 'Lowest'],\n",
              "       [120, 55, 8, 39, 55, 17, 'Highest'],\n",
              "       [70, 50, 7, 34, 40, 15, 'Low'],\n",
              "       [90, 59, 9, 28, 45, 13, 'Low'],\n",
              "       [95, 53, 10, 34, 45, 15, 'high'],\n",
              "       [45, 52, 9, 19, 25, 10, 'Lowest'],\n",
              "       [115, 55, 9, 39, 50, 17, 'Highest'],\n",
              "       [60, 51, 9, 34, 40, 12, 'Low'],\n",
              "       [80, 52, 10, 28, 40, 13, 'Low'],\n",
              "       [85, 59, 6, 34, 45, 13, 'Low'],\n",
              "       [35, 55, 7, 19, 25, 10, 'Lowest'],\n",
              "       [110, 55, 10, 39, 50, 17, 'Highest'],\n",
              "       [30, 58, 6, 19, 25, 10, 'Lowest'],\n",
              "       [100, 54, 10, 23, 50, 12, 'High'],\n",
              "       [40, 57, 8, 19, 25, 10, 'Lowest'],\n",
              "       [120, 55, 8, 39, 55, 17, 'Highest'],\n",
              "       [70, 50, 7, 34, 40, 15, 'Low'],\n",
              "       [90, 59, 9, 28, 45, 13, 'Low'],\n",
              "       [95, 53, 10, 34, 45, 15, 'high']], dtype=object)"
            ]
          },
          "metadata": {},
          "execution_count": 53
        }
      ],
      "source": [
        "data = df.values\n",
        "data[0:20]"
      ]
    },
    {
      "cell_type": "code",
      "source": [
        "df.plot(kind='box', subplots=False, sharex=False, sharey=False)"
      ],
      "metadata": {
        "colab": {
          "base_uri": "https://localhost:8080/",
          "height": 283
        },
        "id": "lrMMe_yzjq8r",
        "outputId": "2f53c0b0-4ed9-4310-c2b9-1039cf4c6f20"
      },
      "execution_count": 68,
      "outputs": [
        {
          "output_type": "execute_result",
          "data": {
            "text/plain": [
              "<matplotlib.axes._subplots.AxesSubplot at 0x7f7819556d10>"
            ]
          },
          "metadata": {},
          "execution_count": 68
        },
        {
          "output_type": "display_data",
          "data": {
            "text/plain": [
              "<Figure size 432x288 with 1 Axes>"
            ],
            "image/png": "[encoded data removed]"
          },
          "metadata": {
            "needs_background": "light"
          }
        }
      ]
    },
    {
      "cell_type": "markdown",
      "metadata": {
        "id": "Qbd28q-tXqVl"
      },
      "source": [
        "# Spliting Data & Creating the Model"
      ]
    },
    {
      "cell_type": "code",
      "execution_count": 54,
      "metadata": {
        "id": "v6uyFbDPXqVm"
      },
      "outputs": [],
      "source": [
        "X = data[:,0:6] #split the code\n",
        "Y = data[:,6]"
      ]
    },
    {
      "cell_type": "code",
      "execution_count": 44,
      "metadata": {
        "colab": {
          "base_uri": "https://localhost:8080/"
        },
        "id": "4Y01o32ZXqVm",
        "outputId": "d48a0d86-b5ba-4f52-d4fa-ef8ffc14e1ef"
      },
      "outputs": [
        {
          "output_type": "execute_result",
          "data": {
            "text/plain": [
              "array([[100, 54, 10, 23, 50, 12],\n",
              "       [40, 57, 8, 19, 25, 10],\n",
              "       [120, 55, 8, 39, 55, 17],\n",
              "       [70, 50, 7, 34, 40, 15],\n",
              "       [90, 59, 9, 28, 45, 13],\n",
              "       [95, 53, 10, 34, 45, 15],\n",
              "       [45, 52, 9, 19, 25, 10],\n",
              "       [115, 55, 9, 39, 50, 17],\n",
              "       [60, 51, 9, 34, 40, 12],\n",
              "       [80, 52, 10, 28, 40, 13]], dtype=object)"
            ]
          },
          "metadata": {},
          "execution_count": 44
        }
      ],
      "source": [
        "# Data without Label\n",
        "X[0:10]"
      ]
    },
    {
      "cell_type": "code",
      "execution_count": 45,
      "metadata": {
        "colab": {
          "base_uri": "https://localhost:8080/"
        },
        "id": "N570pPtTXqVm",
        "outputId": "0a36db02-e799-4912-9cce-d2a156a8d89f"
      },
      "outputs": [
        {
          "output_type": "execute_result",
          "data": {
            "text/plain": [
              "array(['High', 'Lowest', 'Highest', 'Low', 'Low', 'high', 'Lowest',\n",
              "       'Highest', 'Low', 'Low'], dtype=object)"
            ]
          },
          "metadata": {},
          "execution_count": 45
        }
      ],
      "source": [
        "# Label of the Data\n",
        "Y[0:10]"
      ]
    },
    {
      "cell_type": "code",
      "execution_count": 46,
      "metadata": {
        "id": "bMMeXClsXqVn"
      },
      "outputs": [],
      "source": [
        "test_size = 0.2\n",
        "seed = 6"
      ]
    },
    {
      "cell_type": "code",
      "execution_count": 47,
      "metadata": {
        "id": "X3gzSRiJXqVn"
      },
      "outputs": [],
      "source": [
        "X_train, X_test, Y_train, Y_test = model_selection.train_test_split(\n",
        "    X, Y, test_size=test_size, random_state=seed)\n",
        "# random_state is the seed of the random number generator"
      ]
    },
    {
      "cell_type": "code",
      "execution_count": 57,
      "metadata": {
        "id": "PxhR0Q6tXqVn"
      },
      "outputs": [],
      "source": [
        "model = DecisionTreeClassifier()"
      ]
    },
    {
      "cell_type": "code",
      "execution_count": 60,
      "metadata": {
        "id": "QSlZk-C0XqVo"
      },
      "outputs": [],
      "source": [
        "# Fit the model on training data\n",
        "model = model.fit(X_train, Y_train)\n"
      ]
    },
    {
      "cell_type": "code",
      "execution_count": 61,
      "metadata": {
        "colab": {
          "base_uri": "https://localhost:8080/"
        },
        "id": "4FZB48PAXqVo",
        "outputId": "0cd9d6b1-106e-4faa-c4de-b81be9a8c496"
      },
      "outputs": [
        {
          "output_type": "stream",
          "name": "stdout",
          "text": [
            "1.0\n"
          ]
        }
      ],
      "source": [
        "# Check the accuracy of the model on training data\n",
        "\n",
        "accuracy = model.score(X_test, Y_test)\n",
        "print(accuracy)"
      ]
    },
    {
      "cell_type": "code",
      "execution_count": 51,
      "metadata": {
        "colab": {
          "base_uri": "https://localhost:8080/"
        },
        "id": "TK5kAWriXqVo",
        "outputId": "d94dc461-6535-420d-f009-fb927260316c"
      },
      "outputs": [
        {
          "output_type": "stream",
          "name": "stdout",
          "text": [
            "['Low']\n"
          ]
        }
      ],
      "source": [
        "# Predict the labels of the test data\n",
        "\n",
        "predictions = model.predict([[85,59,6,34,45,13]])\n",
        "print(predictions)"
      ]
    },
    {
      "cell_type": "code",
      "execution_count": 66,
      "metadata": {
        "colab": {
          "base_uri": "https://localhost:8080/"
        },
        "id": "tOd1PE19XqVp",
        "outputId": "9e45bf09-130a-4662-cea6-ea8bf6750490"
      },
      "outputs": [
        {
          "output_type": "stream",
          "name": "stdout",
          "text": [
            "Truck1 ['Low']\n",
            "Truck2 ['Highest']\n",
            "Truck3 ['High']\n",
            "Truck4 ['Lowest']\n",
            "\n",
            "\n",
            "The Truck2 can be the leading truck\n"
          ]
        }
      ],
      "source": [
        "# Predict for a group of trucks which one will lead\n",
        "\n",
        "trucks = {\n",
        "    \"Truck1\": [85,59,6,34,45,13],\n",
        "    \"Truck2\": [115, 55, 9, 39, 50, 17],\n",
        "    \"Truck3\": [100, 54, 10, 23, 50, 12],\n",
        "    \"Truck4\": [35, 55, 7, 19, 25, 10],\n",
        "}\n",
        "\n",
        "# Predict the labels of the test data and return the result\n",
        "\n",
        "for truck, data in trucks.items():\n",
        "    print(truck, model.predict([data]))\n",
        "    \n",
        "    if model.predict([data]) == \"Highest\":\n",
        "        leadTruck = truck\n",
        "        \n",
        "print(\"\\n\")        \n",
        "print(\"The\", leadTruck, \"can be the leading truck\")\n"
      ]
    }
  ],
  "metadata": {
    "colab": {
      "collapsed_sections": [],
      "name": "Task4Mod.ipynb",
      "provenance": []
    },
    "interpreter": {
      "hash": "788421b51819b0d99ad3e1c4dbd79c14d1f04d894a227406e4e8c6e44650e5ee"
    },
    "kernelspec": {
      "display_name": "Python 3.7.13 ('deepLearning1')",
      "language": "python",
      "name": "python3"
    },
    "language_info": {
      "codemirror_mode": {
        "name": "ipython",
        "version": 3
      },
      "file_extension": ".py",
      "mimetype": "text/x-python",
      "name": "python",
      "nbconvert_exporter": "python",
      "pygments_lexer": "ipython3",
      "version": "3.7.13"
    }
  },
  "nbformat": 4,
  "nbformat_minor": 0
}